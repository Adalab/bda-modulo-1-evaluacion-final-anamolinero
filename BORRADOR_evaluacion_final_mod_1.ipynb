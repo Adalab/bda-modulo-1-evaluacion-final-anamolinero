{
 "cells": [
  {
   "cell_type": "markdown",
   "metadata": {},
   "source": [
    "# BORRADOR Evaluación final módulo 1"
   ]
  },
  {
   "cell_type": "code",
   "execution_count": 1,
   "metadata": {},
   "outputs": [],
   "source": [
    "# Crear la clase llamada TiendaOnline con 2 'atributos' (características dentro de init): inventario y ventas_totales.\n",
    "# En el atributo inventario tenemos una lista (primero vacía) y luego será un diccionario con las claves \"nombre\", \"precio\" y \"cantidad\".\n",
    "# El atributo ventas_totales es un float (num decimales) que empieza en 0.\n",
    "\n",
    "#**OJO buscar y comentar bien qué hace el init, ya que es algo confuso ahora mismo para mi.\n",
    "#**OJO para que no de error hay que hacer el código todo junto con la clase (es decir todos los métodos)??? me daba error si lo iba haciendo abajo\n",
    "#OJO meter lower para que nos coja las mayúsculas\n",
    "\n",
    "\n",
    "class TiendaOnline:\n",
    "    def __init__ (self): #al principio había puesto inventario y ventas aquí dentro del () pero no es necesario como vimos en clase\n",
    "        self.inventario = []\n",
    "        self.ventas_totales = 0.0\n",
    "\n",
    "# Ahora vamos a crear los 6 métodos que nos pide el ejercicio (funciones que definen cada objeto).\n",
    "\n",
    "# 1. Método agregar_producto(self, nombre, precio, cantidad). = 3 parámetros\n",
    "# Vamos a agregar un producto o actualizar la cantidad si el producto ya existe iterando por el inventario.\n",
    "# Primero vamos a crear el método para ir agregando productos a nuestra lista vacía.\n",
    "\n",
    "    def agregar_producto(self, nombre, precio, cantidad):\n",
    "        # Verificar si el producto ya existe en el inventario\n",
    "        for producto in self.inventario: #buscamos iterando con la palabra producto, pero se podría llamar p o x\n",
    "            if producto[\"nombre\"] == nombre:\n",
    "                producto[\"cantidad\"] += cantidad\n",
    "                print(f\"El producto {nombre} ya existe. Se ha actualizado la cantidad.\")\n",
    "            \n",
    "        \n",
    "        # Si el producto no existe, mostramos un mensaje y lo agregamos al inventario\n",
    "        print(\"El producto no existía en el inventario.\") #va en esta posición porque si va antes no se printea, podemos añadir también si se encuentra un print que diga ya se ha actualizado.\n",
    "        nuevo_producto = {\"nombre\": nombre, \"precio\": precio, \"cantidad\": cantidad}\n",
    "        self.inventario.append(nuevo_producto) #lo conectamos con self a nuevo_producto de arriba y a self.inventario de la clase\n",
    "        \n",
    "\n",
    "# 2. Método ver_inventario(self) con for e imprimir los datos.\n",
    "\n",
    "    def ver_inventario(self):\n",
    "        print(\"El inventario completo de la tienda es:\")\n",
    "        for todo in self.inventario: #no se puede usar .items para iterar porque es una lista, y dentro el diccionario.\n",
    "            print(f\"Nombre: {todo[\"nombre\"]}, Precio: {todo[\"precio\"]}€, Cantidad: {todo[\"cantidad\"]}\") #debe coincidir el nombre con el bucle \"todo\".\n",
    "            #OJO estudiar bien para explicar este print\n",
    "\n",
    "# 3. Método buscar_productos(self, nombre). Buscar por nombre y mostrar detalles con for para iterar.\n",
    "\n",
    "    def buscar_productos(self, nombre): #es muy parecido al método 2, pero solo con el nombre ¿lo podemos hacer con un input?\n",
    "        for p in self.inventario: #igual pero con p para acortar \n",
    "            if p[\"nombre\"] == nombre: #comparamos que sea igual que el nombre\n",
    "                print(f\"Nombre: {p[\"nombre\"]}, Precio: {p[\"precio\"]}€, Cantidad: {p[\"cantidad\"]}\")\n",
    "                return #si lo encuentra para\n",
    "            #ponemos otro mensaje si no lo encuentra?\n",
    "\n",
    "# 4. Método actualizar_stock(self, nombre, cantidad). A diferencia del 1, este puede restar, agregar solo suma.\n",
    "\n",
    "    def actualizar_stock(self, nombre, cantidad):\n",
    "        for p in self.inventario: #iteramos\n",
    "            if p[\"nombre\"] == nombre: #buscamos si aparece el nombre\n",
    "                p[\"cantidad\"] += cantidad #se suma, si se quiere restar se pondría un num negativo\n",
    "                print(f\"El producto {nombre} ha sido actualizado. Nueva cantidad: {p[\"cantidad\"]}\") #si no se pone p[\"cantidad\"] así solo actualiza, no hace el cálculo\n",
    "                return\n",
    "        \n",
    "        #si no aparece el nombre printea esto\n",
    "        print(f\"El producto {nombre} no está en el inventario. No se puede actualizar, agrégalo primero.\")\n",
    "\n",
    "# 5. Método eliminar_producto(self, nombre). Elimina según el parámetro nombre con for y printea si no está.\n",
    "\n",
    "    def eliminar_producto(self, nombre):\n",
    "        for p in self.inventario:\n",
    "            if p[\"nombre\"] == nombre: #buscamos si aparece igual\n",
    "                self.inventario.remove(p) #queremos eliminar toooodo el producto, por eso ponemos remove en inventario, no en nombre\n",
    "                print(f\"El producto {nombre} ha sido eliminado correctamente del inventario.\")\n",
    "                return #salimos\n",
    "            \n",
    "        #si no encuentra el producto lo printeamos\n",
    "        print(f\"El producto {nombre} no estaba en el inventario, por lo que no se puede eliminar.\")\n",
    "\n",
    "# 6. Método calcular_valor_inventario(self) con for, sumando el valor de cada producto y multiplicándolo por la cantidad\n",
    "    \n",
    "    def calcular_valor_inventario(self):\n",
    "        valor_todo = 0.0\n",
    "\n",
    "        for p in self.inventario:\n",
    "            valor_todo = p[\"nombre\"] * p[\"precio\"] * p[\"cantidad\"]\n",
    "        return print(f\"El valor total del inventario es {valor_todo}€.\") #quiero que lo muestre cálculo por cálculo, que primero muestre cuánto valor tengo por nombre de prodcuto y luego el total completo.\n"
   ]
  },
  {
   "cell_type": "code",
   "execution_count": 2,
   "metadata": {},
   "outputs": [
    {
     "name": "stdout",
     "output_type": "stream",
     "text": [
      "El producto no existía en el inventario.\n",
      "El inventario actualizado es: [{'nombre': 'Camisa', 'precio': 29.95, 'cantidad': 2}]\n"
     ]
    }
   ],
   "source": [
    "# Creamos una instancia (entidad individual) y probamos a agregar (como es invidual va fuera de los 6 métodos)\n",
    "tienda = TiendaOnline()\n",
    "tienda.agregar_producto(\"Camisa\", 29.95, 2) #agregamos producto\n",
    "print(\"El inventario actualizado es:\" , tienda.inventario)"
   ]
  },
  {
   "cell_type": "code",
   "execution_count": 3,
   "metadata": {},
   "outputs": [
    {
     "name": "stdout",
     "output_type": "stream",
     "text": [
      "El producto no existía en el inventario.\n",
      "El inventario actualizado es: [{'nombre': 'Camisa', 'precio': 29.95, 'cantidad': 2}, {'nombre': 'vestido', 'precio': 35, 'cantidad': 6}]\n"
     ]
    }
   ],
   "source": [
    "tienda.agregar_producto(\"vestido\", 35, 6) #agregamos producto\n",
    "print(\"El inventario actualizado es:\" , tienda.inventario)\n",
    "#ahora funciona añadir"
   ]
  },
  {
   "cell_type": "code",
   "execution_count": 4,
   "metadata": {},
   "outputs": [
    {
     "name": "stdout",
     "output_type": "stream",
     "text": [
      "El producto vestido ya existe. Se ha actualizado la cantidad.\n",
      "El producto no existía en el inventario.\n",
      "El inventario actualizado es: [{'nombre': 'Camisa', 'precio': 29.95, 'cantidad': 2}, {'nombre': 'vestido', 'precio': 35, 'cantidad': 7}, {'nombre': 'vestido', 'precio': 69, 'cantidad': 1}]\n"
     ]
    }
   ],
   "source": [
    "tienda.agregar_producto(\"vestido\", 69, 1) #agregamos producto\n",
    "print(\"El inventario actualizado es:\" , tienda.inventario)\n",
    "#aquí lo ha actualizado, ha subido una cantidad y ha ignorado el precio nuevo que le he metido y no me ha printeado que no existe YUHUUUU"
   ]
  },
  {
   "cell_type": "code",
   "execution_count": 5,
   "metadata": {},
   "outputs": [
    {
     "data": {
      "text/plain": [
       "{'inventario': [{'nombre': 'Camisa', 'precio': 29.95, 'cantidad': 2},\n",
       "  {'nombre': 'vestido', 'precio': 35, 'cantidad': 7},\n",
       "  {'nombre': 'vestido', 'precio': 69, 'cantidad': 1}],\n",
       " 'ventas_totales': 0.0}"
      ]
     },
     "execution_count": 5,
     "metadata": {},
     "output_type": "execute_result"
    }
   ],
   "source": [
    "tienda.__dict__ #voy comprobando como va mi clase tienda = TiendaOnline"
   ]
  },
  {
   "cell_type": "code",
   "execution_count": 6,
   "metadata": {},
   "outputs": [
    {
     "name": "stdout",
     "output_type": "stream",
     "text": [
      "El producto no existía en el inventario.\n",
      "El inventario completo de la tienda es:\n",
      "Nombre: Camisa, Precio: 29.95€, Cantidad: 2\n",
      "Nombre: vestido, Precio: 35€, Cantidad: 7\n",
      "Nombre: vestido, Precio: 69€, Cantidad: 1\n",
      "Nombre: zapatos tacón, Precio: 51€, Cantidad: 9\n"
     ]
    }
   ],
   "source": [
    "tienda.agregar_producto(\"zapatos tacón\", 51, 9) #añado otro item más a la tienda\n",
    "\n",
    "tienda.ver_inventario() #veo todo el inventario bonito, es decir solo la lista con el diccionario"
   ]
  },
  {
   "cell_type": "code",
   "execution_count": 7,
   "metadata": {},
   "outputs": [
    {
     "name": "stdout",
     "output_type": "stream",
     "text": [
      "Nombre: vestido, Precio: 35€, Cantidad: 7\n"
     ]
    }
   ],
   "source": [
    "tienda.buscar_productos(\"vestido\") #hemos buscado algo que si está, falta programar un mensaje si no está el producto\n"
   ]
  },
  {
   "cell_type": "code",
   "execution_count": 8,
   "metadata": {},
   "outputs": [
    {
     "name": "stdout",
     "output_type": "stream",
     "text": [
      "El producto Camisa ha sido actualizado. Nueva cantidad: 36\n"
     ]
    }
   ],
   "source": [
    "tienda.actualizar_stock(\"Camisa\", 34) #lo printea, pero solo suma?"
   ]
  },
  {
   "cell_type": "code",
   "execution_count": 9,
   "metadata": {},
   "outputs": [
    {
     "name": "stdout",
     "output_type": "stream",
     "text": [
      "El producto Camisa ha sido actualizado. Nueva cantidad: 71\n"
     ]
    }
   ],
   "source": [
    "tienda.actualizar_stock(\"Camisa\", 35)"
   ]
  },
  {
   "cell_type": "code",
   "execution_count": 10,
   "metadata": {},
   "outputs": [
    {
     "name": "stdout",
     "output_type": "stream",
     "text": [
      "El producto Camisa ha sido actualizado. Nueva cantidad: 69\n"
     ]
    }
   ],
   "source": [
    "tienda.actualizar_stock(\"Camisa\", -2) #ahora resta, porque le estamos metiendo el símbolo menos"
   ]
  },
  {
   "cell_type": "code",
   "execution_count": 11,
   "metadata": {},
   "outputs": [
    {
     "name": "stdout",
     "output_type": "stream",
     "text": [
      "El producto vestido ha sido actualizado. Nueva cantidad: 12\n"
     ]
    }
   ],
   "source": [
    "tienda.actualizar_stock(\"vestido\", 5) #solo se puede usar este método para + o -, no para actualizar el número cantidad de una, ya que si tuviera 5 vestidos, como vemos aquí lo suma a los 7 que ya tenía, si quisiera decir que me quedan 5 tendría que usar agregar o restar 2 (que serían los que he vendido)"
   ]
  },
  {
   "cell_type": "code",
   "execution_count": 12,
   "metadata": {},
   "outputs": [
    {
     "name": "stdout",
     "output_type": "stream",
     "text": [
      "El producto vestido ha sido eliminado correctamente del inventario.\n",
      "El producto guantes no estaba en el inventario, por lo que no se puede eliminar.\n"
     ]
    }
   ],
   "source": [
    "tienda.eliminar_producto(\"vestido\") #prueba con un prod existente\n",
    "tienda.eliminar_producto(\"guantes\") #prueba con un prod que no estaba"
   ]
  },
  {
   "cell_type": "code",
   "execution_count": null,
   "metadata": {},
   "outputs": [
    {
     "name": "stdout",
     "output_type": "stream",
     "text": [
      "El inventario completo de la tienda es:\n",
      "Nombre: Camisa, Precio: 29.95€, Cantidad: 69\n",
      "Nombre: vestido, Precio: 69€, Cantidad: 1\n",
      "Nombre: zapatos tacón, Precio: 51€, Cantidad: 9\n"
     ]
    }
   ],
   "source": [
    "tienda.ver_inventario()"
   ]
  },
  {
   "cell_type": "code",
   "execution_count": 14,
   "metadata": {},
   "outputs": [
    {
     "ename": "TypeError",
     "evalue": "can't multiply sequence by non-int of type 'float'",
     "output_type": "error",
     "traceback": [
      "\u001b[1;31m---------------------------------------------------------------------------\u001b[0m",
      "\u001b[1;31mTypeError\u001b[0m                                 Traceback (most recent call last)",
      "Cell \u001b[1;32mIn[14], line 1\u001b[0m\n\u001b[1;32m----> 1\u001b[0m tienda\u001b[38;5;241m.\u001b[39mcalcular_valor_inventario()\n",
      "Cell \u001b[1;32mIn[1], line 82\u001b[0m, in \u001b[0;36mTiendaOnline.calcular_valor_inventario\u001b[1;34m(self)\u001b[0m\n\u001b[0;32m     79\u001b[0m valor_todo \u001b[38;5;241m=\u001b[39m \u001b[38;5;241m0.0\u001b[39m\n\u001b[0;32m     81\u001b[0m \u001b[38;5;28;01mfor\u001b[39;00m p \u001b[38;5;129;01min\u001b[39;00m \u001b[38;5;28mself\u001b[39m\u001b[38;5;241m.\u001b[39minventario:\n\u001b[1;32m---> 82\u001b[0m     valor_todo \u001b[38;5;241m=\u001b[39m p[\u001b[38;5;124m\"\u001b[39m\u001b[38;5;124mnombre\u001b[39m\u001b[38;5;124m\"\u001b[39m] \u001b[38;5;241m*\u001b[39m p[\u001b[38;5;124m\"\u001b[39m\u001b[38;5;124mprecio\u001b[39m\u001b[38;5;124m\"\u001b[39m] \u001b[38;5;241m*\u001b[39m p[\u001b[38;5;124m\"\u001b[39m\u001b[38;5;124mcantidad\u001b[39m\u001b[38;5;124m\"\u001b[39m]\n\u001b[0;32m     83\u001b[0m \u001b[38;5;28;01mreturn\u001b[39;00m \u001b[38;5;28mprint\u001b[39m(\u001b[38;5;124mf\u001b[39m\u001b[38;5;124m\"\u001b[39m\u001b[38;5;124mEl valor total del inventario es \u001b[39m\u001b[38;5;132;01m{\u001b[39;00mvalor_todo\u001b[38;5;132;01m}\u001b[39;00m\u001b[38;5;124m€.\u001b[39m\u001b[38;5;124m\"\u001b[39m)\n",
      "\u001b[1;31mTypeError\u001b[0m: can't multiply sequence by non-int of type 'float'"
     ]
    }
   ],
   "source": [
    "tienda.calcular_valor_inventario() #NO, solo me está calculando los zapatos"
   ]
  }
 ],
 "metadata": {
  "kernelspec": {
   "display_name": "base",
   "language": "python",
   "name": "python3"
  },
  "language_info": {
   "codemirror_mode": {
    "name": "ipython",
    "version": 3
   },
   "file_extension": ".py",
   "mimetype": "text/x-python",
   "name": "python",
   "nbconvert_exporter": "python",
   "pygments_lexer": "ipython3",
   "version": "3.12.7"
  }
 },
 "nbformat": 4,
 "nbformat_minor": 2
}
