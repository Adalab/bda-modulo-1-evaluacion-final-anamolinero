{
 "cells": [
  {
   "cell_type": "markdown",
   "metadata": {},
   "source": [
    "# BORRADOR Evaluación final módulo 1"
   ]
  },
  {
   "cell_type": "code",
   "execution_count": 12,
   "metadata": {},
   "outputs": [],
   "source": [
    "# Crear la clase llamada TiendaOnline con 2 'atributos' (características dentro de init): inventario y ventas_totales.\n",
    "# En el atributo inventario tenemos una lista (primero vacía) y luego será un diccionario con las claves \"nombre\", \"precio\" y \"cantidad\".\n",
    "# El atributo ventas_totales es un float (num decimales) que empieza en 0.\n",
    "\n",
    "#**OJO buscar y comentar bien qué hace el init, ya que es algo confuso ahora mismo para mi.\n",
    "#**OJO para que no de error hay que hacer el código todo junto con la clase (es decir todos los métodos)??? me daba error si lo iba haciendo abajo\n",
    "#OJO meter lower para que nos coja las mayúsculas\n",
    "\n",
    "\n",
    "class TiendaOnline:\n",
    "    def __init__ (self): #al principio había puesto inventario y ventas aquí dentro del () pero no es necesario como vimos en clase\n",
    "        self.inventario = []\n",
    "        self.ventas_totales = 0.0\n",
    "\n",
    "# Ahora vamos a crear los 6 métodos que nos pide el ejercicio (funciones que definen cada objeto).\n",
    "\n",
    "# 1. Método agregar_producto(self, nombre, precio, cantidad). = 3 parámetros\n",
    "# Vamos a agregar un producto o actualizar la cantidad si el producto ya existe iterando por el inventario.\n",
    "# Primero vamos a crear el método para ir agregando productos a nuestra lista vacía.\n",
    "\n",
    "    def agregar_producto(self, nombre, precio, cantidad):\n",
    "        # Verificar si el producto ya existe en el inventario\n",
    "        for producto in self.inventario: #buscamos iterando con la palabra producto, pero se podría llamar p o x\n",
    "            if producto[\"nombre\"] == nombre:\n",
    "                producto[\"cantidad\"] += cantidad\n",
    "                print(f\"El producto {nombre} ya existe. Se ha actualizado la cantidad.\")\n",
    "                return #es una función?\n",
    "        \n",
    "        # Si el producto no existe, mostramos un mensaje y lo agregamos al inventario\n",
    "        print(\"El producto no existía en el inventario.\") #va en esta posición porque si va antes no se printea, podemos añadir también si se encuentra un print que diga ya se ha actualizado.\n",
    "        nuevo_producto = {\"nombre\": nombre, \"precio\": precio, \"cantidad\": cantidad}\n",
    "        self.inventario.append(nuevo_producto) #lo conectamos con self a nuevo_producto de arriba y a self.inventario de la clase\n",
    "\n",
    "# 2. Método ver_inventario(self) con for e imprimir los datos.\n",
    "\n",
    "    def ver_inventario(self):\n",
    "        print(\"El inventario completo de la tienda es:\")\n",
    "        for todo in self.inventario: #no se puede usar .items para iterar porque es una lista, y dentro el diccionario.\n",
    "            print(f\"Nombre: {todo[\"nombre\"]}, Precio: {todo[\"precio\"]}€, Cantidad: {todo[\"cantidad\"]}\") #debe coincidir el nombre con el bucle \"todo\".\n",
    "            #OJO estudiar bien para explicar este print\n",
    "\n",
    "# 3. Método buscar_productos(self, nombre). Buscar por nombre y mostrar detalles con for para iterar.\n",
    "\n",
    "    def buscar_productos(self, nombre): #es muy parecido al método 2, pero solo con el nombre ¿lo podemos hacer con un input?\n",
    "        for p in self.inventario: #igual pero con p para acortar \n",
    "            if p[\"nombre\"] == nombre: #comparamos que sea igual que el nombre\n",
    "                print(f\"Nombre: {p[\"nombre\"]}, Precio: {p[\"precio\"]}€, Cantidad: {p[\"cantidad\"]}\")\n",
    "                return #si lo encuentra para\n",
    "            #ponemos otro mensaje si no lo encuentra?\n",
    "\n",
    "# 4. Método actualizar_stock(self, nombre, cantidad). A diferencia del 1, este puede restar, agregar solo suma.\n",
    "\n",
    "    def actualizar_stock(self, nombre, cantidad):\n",
    "        for p in self.inventario: #buscamos iterando\n",
    "            if p[\"nombre\"] == nombre:\n",
    "                p[\"cantidad\"] +- cantidad #queremos sumar o restar al cantidad que ya teníamos\n",
    "                print(f\"El producto {nombre} ha sido actualizado, su cantidad es de {cantidad}\")\n",
    "                return\n",
    "            else:\n",
    "                p[\"nombre\"] != nombre #si no es igual al nombre que nos printee que no está\n",
    "                print(f\"Este producto no está en el inventario. No se puede actualizar, tienes que agregarlo.\")"
   ]
  },
  {
   "cell_type": "code",
   "execution_count": 13,
   "metadata": {},
   "outputs": [
    {
     "name": "stdout",
     "output_type": "stream",
     "text": [
      "El producto no existía en el inventario.\n",
      "El inventario actualizado es: [{'nombre': 'Camisa', 'precio': 29.95, 'cantidad': 2}]\n"
     ]
    }
   ],
   "source": [
    "# Creamos una instancia (entidad individual) y probamos a agregar (como es invidual va fuera de los 6 métodos)\n",
    "tienda = TiendaOnline()\n",
    "tienda.agregar_producto(\"Camisa\", 29.95, 2) #agregamos producto\n",
    "print(\"El inventario actualizado es:\" , tienda.inventario)"
   ]
  },
  {
   "cell_type": "code",
   "execution_count": 14,
   "metadata": {},
   "outputs": [
    {
     "name": "stdout",
     "output_type": "stream",
     "text": [
      "El producto no existía en el inventario.\n",
      "El inventario actualizado es: [{'nombre': 'Camisa', 'precio': 29.95, 'cantidad': 2}, {'nombre': 'vestido', 'precio': 35, 'cantidad': 6}]\n"
     ]
    }
   ],
   "source": [
    "tienda.agregar_producto(\"vestido\", 35, 6) #agregamos producto\n",
    "print(\"El inventario actualizado es:\" , tienda.inventario)\n",
    "#ahora funciona añadir"
   ]
  },
  {
   "cell_type": "code",
   "execution_count": 15,
   "metadata": {},
   "outputs": [
    {
     "name": "stdout",
     "output_type": "stream",
     "text": [
      "El producto vestido ya existe. Se ha actualizado la cantidad.\n",
      "El inventario actualizado es: [{'nombre': 'Camisa', 'precio': 29.95, 'cantidad': 2}, {'nombre': 'vestido', 'precio': 35, 'cantidad': 7}]\n"
     ]
    }
   ],
   "source": [
    "tienda.agregar_producto(\"vestido\", 69, 1) #agregamos producto\n",
    "print(\"El inventario actualizado es:\" , tienda.inventario)\n",
    "#aquí lo ha actualizado, ha subido una cantidad y ha ignorado el precio nuevo que le he metido y no me ha printeado que no existe YUHUUUU"
   ]
  },
  {
   "cell_type": "code",
   "execution_count": 16,
   "metadata": {},
   "outputs": [
    {
     "data": {
      "text/plain": [
       "{'inventario': [{'nombre': 'Camisa', 'precio': 29.95, 'cantidad': 2},\n",
       "  {'nombre': 'vestido', 'precio': 35, 'cantidad': 7}],\n",
       " 'ventas_totales': 0.0}"
      ]
     },
     "execution_count": 16,
     "metadata": {},
     "output_type": "execute_result"
    }
   ],
   "source": [
    "tienda.__dict__ #voy comprobando como va mi clase tienda = TiendaOnline"
   ]
  },
  {
   "cell_type": "code",
   "execution_count": 17,
   "metadata": {},
   "outputs": [
    {
     "name": "stdout",
     "output_type": "stream",
     "text": [
      "El producto no existía en el inventario.\n",
      "El inventario completo de la tienda es:\n",
      "Nombre: Camisa, Precio: 29.95€, Cantidad: 2\n",
      "Nombre: vestido, Precio: 35€, Cantidad: 7\n",
      "Nombre: zapatos tacón, Precio: 51€, Cantidad: 9\n"
     ]
    }
   ],
   "source": [
    "tienda.agregar_producto(\"zapatos tacón\", 51, 9) #añado otro item más a la tienda\n",
    "\n",
    "tienda.ver_inventario() #veo todo el inventario bonito, es decir solo la lista con el diccionario"
   ]
  },
  {
   "cell_type": "code",
   "execution_count": 18,
   "metadata": {},
   "outputs": [
    {
     "name": "stdout",
     "output_type": "stream",
     "text": [
      "Nombre: vestido, Precio: 35€, Cantidad: 7\n"
     ]
    }
   ],
   "source": [
    "tienda.buscar_productos(\"vestido\") #hemos buscado algo que si está, falta programar un mensaje si no está el producto\n"
   ]
  },
  {
   "cell_type": "code",
   "execution_count": null,
   "metadata": {},
   "outputs": [
    {
     "name": "stdout",
     "output_type": "stream",
     "text": [
      "El producto Camisa ha sido actualizado, su cantidad es de 2\n"
     ]
    }
   ],
   "source": [
    "tienda.actualizar_stock(\"Camisa\", 2) #lo printea, pero no suma ni resta"
   ]
  },
  {
   "cell_type": "code",
   "execution_count": null,
   "metadata": {},
   "outputs": [],
   "source": []
  }
 ],
 "metadata": {
  "kernelspec": {
   "display_name": "base",
   "language": "python",
   "name": "python3"
  },
  "language_info": {
   "codemirror_mode": {
    "name": "ipython",
    "version": 3
   },
   "file_extension": ".py",
   "mimetype": "text/x-python",
   "name": "python",
   "nbconvert_exporter": "python",
   "pygments_lexer": "ipython3",
   "version": "3.12.7"
  }
 },
 "nbformat": 4,
 "nbformat_minor": 2
}
