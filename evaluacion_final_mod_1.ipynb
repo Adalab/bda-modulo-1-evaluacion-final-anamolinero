{
 "cells": [
  {
   "cell_type": "markdown",
   "metadata": {},
   "source": [
    "# Evaluación Final Módulo 1"
   ]
  },
  {
   "cell_type": "code",
   "execution_count": 1,
   "metadata": {},
   "outputs": [],
   "source": [
    "# Primero creamos la clase llamada TiendaOnline con 2 'atributos' (características dentro de __init__):\n",
    "# En el atributo 'inventario' tenemos una lista (primero vacía) y luego será un diccionario con las claves: \"nombre\", \"precio\" y \"cantidad\".\n",
    "# El atributo 'ventas_totales' es un float (num decimales) que empieza en 0.\n",
    "\n",
    "\n",
    "class TiendaOnline: #esta es la clase\n",
    "    def __init__ (self): #es el estado inicial, aquí irán los atributos, que no tienen por qué repetirse\n",
    "        self.inventario = []\n",
    "        self.ventas_totales = 0.0\n",
    "\n",
    "# Ahora vamos a crear los 6 métodos que nos pide el ejercicio (funciones que definen cada objeto). Es necesario hacerlo en la misma caja de code.\n",
    "\n",
    "# 1. Método agregar_producto(self, nombre, precio, cantidad). 3 parámetros\n",
    "# Vamos a agregar un producto o actualizar la cantidad si el producto ya existe iterando por el inventario.\n",
    "# Primero vamos a crear el método para ir agregando productos a nuestra lista vacía.\n",
    "\n",
    "    def agregar_producto(self, nombre, precio, cantidad):\n",
    "        # Verificar si el producto ya existe en el inventario\n",
    "        for producto in self.inventario: #buscamos iterando con la palabra producto, pero se podría llamar p o x\n",
    "            if producto[\"nombre\"] == nombre: #si el nombre que metamos coincide con el nombre del parámetro pasamos a lo siguiente\n",
    "                producto[\"cantidad\"] += cantidad #que es añadir la cantidad\n",
    "                print(f\"El producto {nombre} ya existe. Se ha actualizado la cantidad.\") #printeamos\n",
    "                return #se termina la función si lo encuentra\n",
    "        \n",
    "        # Si el producto no existe, mostramos un mensaje y lo agregamos al inventario\n",
    "        nuevo_producto = {\"nombre\": nombre, \"precio\": precio, \"cantidad\": cantidad} #hacemos una variable nueva para añadirla a la lista [] del inventario\n",
    "        self.inventario.append(nuevo_producto) #lo conectamos con self a nuevo_producto de arriba y a self.inventario de la clase\n",
    "        print(f\"El producto {nombre} ha sido agregado.\")\n",
    "\n",
    "\n",
    "# 2. Método ver_inventario(self) con for e imprimir los datos.\n",
    "\n",
    "    def ver_inventario(self): #nuevo método\n",
    "        print(\"El inventario completo de la tienda es:\")\n",
    "        for todo in self.inventario: #no se puede usar .items para iterar porque es una lista, y dentro un diccionario.\n",
    "            print(f\"Nombre: {todo[\"nombre\"]}, Precio: {todo[\"precio\"]}€, Cantidad: {todo[\"cantidad\"]}\") #debe coincidir el nombre de los {} con el bucle \"todo\".\n",
    "\n",
    "\n",
    "# 3. Método buscar_productos(self, nombre). Buscar por nombre y mostrar detalles con for para iterar.\n",
    "\n",
    "    def buscar_productos(self, nombre): \n",
    "        encontrado = False #variable tipo booleano para saber si está o no, entonces el return no hace\n",
    "\n",
    "        for p in self.inventario:  \n",
    "            if p[\"nombre\"] == nombre: #comparamos que sea igual que el nombre\n",
    "                print(f\"Nombre: {p[\"nombre\"]}, Precio: {p[\"precio\"]}€, Cantidad: {p[\"cantidad\"]}\")\n",
    "                encontrado = True\n",
    "        \n",
    "        #si no lo encuentra sigue:\n",
    "        if not encontrado:\n",
    "            print(f\"El producto {nombre} que has buscado no está en el inventario.\")\n",
    "\n",
    "# 4. Método actualizar_stock(self, nombre, cantidad). A diferencia del 1, este puede restar cantidad, agregar solo suma.\n",
    "\n",
    "    def actualizar_stock(self, nombre, cantidad): #nuevo método\n",
    "        for p in self.inventario: #iteramos\n",
    "            if p[\"nombre\"] == nombre: #buscamos si aparece el nombre\n",
    "                p[\"cantidad\"] += cantidad #se suma, si se quiere restar se pondría un num negativo\n",
    "                print(f\"El producto {nombre} ha sido actualizado. Nueva cantidad: {p[\"cantidad\"]}\") #si no se pone p[\"cantidad\"] así solo actualiza, no hace el cálculo\n",
    "                return\n",
    "        \n",
    "        #si no aparece el nombre printea esto:\n",
    "        print(f\"El producto {nombre} no está en el inventario. No se puede actualizar, agrégalo primero.\") #igual que el 3 pero sin true/false y sin if not, pero con return\n",
    "\n",
    "# 5. Método eliminar_producto(self, nombre). Elimina según el parámetro nombre con for y printea si no está.\n",
    "\n",
    "    def eliminar_producto(self, nombre): \n",
    "        for p in self.inventario:\n",
    "            if p[\"nombre\"] == nombre: \n",
    "                self.inventario.remove(p) #queremos eliminar toooodo el producto, es decir con sus datos, por eso ponemos remove en inventario, no en nombre\n",
    "                print(f\"El producto {nombre} ha sido eliminado correctamente del inventario.\")\n",
    "                return #salimos\n",
    "            \n",
    "        #si no encuentra el producto lo printeamos\n",
    "        print(f\"El producto {nombre} no estaba en el inventario, por lo que no se puede eliminar.\")\n",
    "\n",
    "# 6. Método calcular_valor_inventario(self) con for, sumando el valor de cada producto y multiplicándolo por la cantidad\n",
    "    \n",
    "    def calcular_valor_inventario(self):\n",
    "        valor_todo = 0.0 #creamos la varible del valor, que primero será 0\n",
    "\n",
    "        for p in self.inventario:\n",
    "            valor_producto = p[\"precio\"] * p[\"cantidad\"] #creamos la variable de cada producto y multiplicamos el precio por la cantidad\n",
    "            print(f\"{p[\"nombre\"]}: {p[\"precio\"]}€ x {p[\"cantidad\"]} = {valor_producto}€\")\n",
    "            #calculamos cada uno para ir viéndolo\n",
    "                  \n",
    "            valor_todo += valor_producto #calculamos el total\n",
    "        return print(f\"El valor total del inventario es {valor_todo}€\") "
   ]
  },
  {
   "cell_type": "code",
   "execution_count": 2,
   "metadata": {},
   "outputs": [
    {
     "name": "stdout",
     "output_type": "stream",
     "text": [
      "El producto Camisa ha sido agregado.\n",
      "El inventario actualizado es: [{'nombre': 'Camisa', 'precio': 29.95, 'cantidad': 2}]\n"
     ]
    }
   ],
   "source": [
    "# Creamos una instancia (entidad individual) y probamos a agregar (como es invidual va fuera de los 6 métodos)\n",
    "tienda = TiendaOnline()\n",
    "tienda.agregar_producto(\"Camisa\", 29.95, 2) #agregamos producto con sus 3 claves\n",
    "print(\"El inventario actualizado es:\" , tienda.inventario)"
   ]
  },
  {
   "cell_type": "code",
   "execution_count": 3,
   "metadata": {},
   "outputs": [
    {
     "name": "stdout",
     "output_type": "stream",
     "text": [
      "El producto vestido ha sido agregado.\n",
      "El inventario actualizado es: [{'nombre': 'Camisa', 'precio': 29.95, 'cantidad': 2}, {'nombre': 'vestido', 'precio': 35, 'cantidad': 6}]\n"
     ]
    }
   ],
   "source": [
    "tienda.agregar_producto(\"vestido\", 35, 6) #agregamos otro producto\n",
    "print(\"El inventario actualizado es:\" , tienda.inventario)"
   ]
  },
  {
   "cell_type": "code",
   "execution_count": 4,
   "metadata": {},
   "outputs": [
    {
     "name": "stdout",
     "output_type": "stream",
     "text": [
      "El producto abrigo ha sido agregado.\n",
      "El inventario actualizado es: [{'nombre': 'Camisa', 'precio': 29.95, 'cantidad': 2}, {'nombre': 'vestido', 'precio': 35, 'cantidad': 6}, {'nombre': 'abrigo', 'precio': 69, 'cantidad': 3}]\n"
     ]
    }
   ],
   "source": [
    "tienda.agregar_producto(\"abrigo\", 69, 3) #agregamos otro tercer producto\n",
    "print(\"El inventario actualizado es:\" , tienda.inventario)"
   ]
  },
  {
   "cell_type": "code",
   "execution_count": 5,
   "metadata": {},
   "outputs": [
    {
     "name": "stdout",
     "output_type": "stream",
     "text": [
      "El producto zapatos tacón ha sido agregado.\n",
      "El inventario completo de la tienda es:\n",
      "Nombre: Camisa, Precio: 29.95€, Cantidad: 2\n",
      "Nombre: vestido, Precio: 35€, Cantidad: 6\n",
      "Nombre: abrigo, Precio: 69€, Cantidad: 3\n",
      "Nombre: zapatos tacón, Precio: 51€, Cantidad: 9\n"
     ]
    }
   ],
   "source": [
    "tienda.agregar_producto(\"zapatos tacón\", 51, 9) #añado otro producto\n",
    "\n",
    "tienda.ver_inventario() #veo todo el inventario bonito, es decir solo la lista con el diccionario"
   ]
  },
  {
   "cell_type": "code",
   "execution_count": 6,
   "metadata": {},
   "outputs": [
    {
     "name": "stdout",
     "output_type": "stream",
     "text": [
      "Nombre: vestido, Precio: 35€, Cantidad: 6\n",
      "El producto sombrero que has buscado no está en el inventario.\n"
     ]
    }
   ],
   "source": [
    "tienda.buscar_productos(\"vestido\") #hemos buscado algo que si está\n",
    "tienda.buscar_productos(\"sombrero\") #probamos con algo que no existe"
   ]
  },
  {
   "cell_type": "code",
   "execution_count": 7,
   "metadata": {},
   "outputs": [
    {
     "name": "stdout",
     "output_type": "stream",
     "text": [
      "El producto Camisa ha sido actualizado. Nueva cantidad: 36\n",
      "El producto sombrero no está en el inventario. No se puede actualizar, agrégalo primero.\n"
     ]
    }
   ],
   "source": [
    "tienda.actualizar_stock(\"Camisa\", 34) \n",
    "tienda.actualizar_stock(\"sombrero\", 5) #probamos con uno que no existe"
   ]
  },
  {
   "cell_type": "code",
   "execution_count": 8,
   "metadata": {},
   "outputs": [
    {
     "name": "stdout",
     "output_type": "stream",
     "text": [
      "El producto Camisa ha sido actualizado. Nueva cantidad: 34\n"
     ]
    }
   ],
   "source": [
    "tienda.actualizar_stock(\"Camisa\", -2) #también podemos restar si ponemos cuanto hemos vendido"
   ]
  },
  {
   "cell_type": "code",
   "execution_count": 9,
   "metadata": {},
   "outputs": [
    {
     "name": "stdout",
     "output_type": "stream",
     "text": [
      "El producto vestido ha sido eliminado correctamente del inventario.\n",
      "El producto calcetines no estaba en el inventario, por lo que no se puede eliminar.\n"
     ]
    }
   ],
   "source": [
    "tienda.eliminar_producto(\"vestido\") #prueba con un producto existente\n",
    "tienda.eliminar_producto(\"calcetines\") #prueba con un producto que no estaba"
   ]
  },
  {
   "cell_type": "code",
   "execution_count": 10,
   "metadata": {},
   "outputs": [
    {
     "name": "stdout",
     "output_type": "stream",
     "text": [
      "El inventario completo de la tienda es:\n",
      "Nombre: Camisa, Precio: 29.95€, Cantidad: 34\n",
      "Nombre: abrigo, Precio: 69€, Cantidad: 3\n",
      "Nombre: zapatos tacón, Precio: 51€, Cantidad: 9\n"
     ]
    }
   ],
   "source": [
    "tienda.ver_inventario() #vemos el inventario que tenemos actualmente"
   ]
  },
  {
   "cell_type": "code",
   "execution_count": 11,
   "metadata": {},
   "outputs": [
    {
     "name": "stdout",
     "output_type": "stream",
     "text": [
      "Camisa: 29.95€ x 34 = 1018.3€\n",
      "abrigo: 69€ x 3 = 207€\n",
      "zapatos tacón: 51€ x 9 = 459€\n",
      "El valor total del inventario es 1684.3€\n"
     ]
    }
   ],
   "source": [
    "tienda.calcular_valor_inventario()"
   ]
  }
 ],
 "metadata": {
  "kernelspec": {
   "display_name": "base",
   "language": "python",
   "name": "python3"
  },
  "language_info": {
   "codemirror_mode": {
    "name": "ipython",
    "version": 3
   },
   "file_extension": ".py",
   "mimetype": "text/x-python",
   "name": "python",
   "nbconvert_exporter": "python",
   "pygments_lexer": "ipython3",
   "version": "3.12.7"
  }
 },
 "nbformat": 4,
 "nbformat_minor": 2
}
